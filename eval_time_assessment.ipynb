{
 "cells": [
  {
   "cell_type": "code",
   "execution_count": 1,
   "id": "1e3372f3",
   "metadata": {},
   "outputs": [],
   "source": [
    "# std packages\n",
    "%matplotlib inline\n",
    "import numpy as np\n",
    "import scipy.interpolate as interp\n",
    "import scipy.integrate as integ\n",
    "import scipy.signal as sig\n",
    "import scipy.optimize as opt\n",
    "import matplotlib.pyplot as plt\n",
    "from matplotlib import rc\n",
    "import matplotlib.gridspec as gridspec\n",
    "import h5py as h5\n",
    "import os, sys\n",
    "import timeit\n",
    "\n",
    "plt.rc('figure', figsize=(9, 7))\n",
    "plt.rcParams.update({'text.usetex': True,\n",
    "                     'text.latex.preamble':r'\\usepackage{amsmath}',\n",
    "                     'font.family': 'serif',\n",
    "                     'font.serif': ['Georgia'],\n",
    "                     'mathtext.fontset': 'cm',\n",
    "                     'lines.linewidth': 2.5,\n",
    "                     'font.size': 20,\n",
    "                     'xtick.labelsize': 'large',\n",
    "                     'ytick.labelsize': 'large',\n",
    "                     'xtick.direction': 'in',\n",
    "                     'ytick.direction': 'in',\n",
    "                     'xtick.major.width': 1.7,\n",
    "                     'ytick.major.width': 1.7,\n",
    "                     'xtick.major.size': 7.,\n",
    "                     'ytick.major.size': 7.,\n",
    "                     'ytick.right':True, \n",
    "                     'axes.labelsize': 'large',\n",
    "                     'axes.titlesize': 'large',\n",
    "                     'axes.grid': True,\n",
    "                     'grid.alpha': 0.5,\n",
    "                     'lines.markersize': 12,\n",
    "                     'legend.borderpad': 0.2,\n",
    "                     'legend.fancybox': True,\n",
    "                     'legend.fontsize': 17,\n",
    "                     'legend.framealpha': 0.7,\n",
    "                     'legend.handletextpad': 0.5,\n",
    "                     'legend.labelspacing': 0.2,\n",
    "                     'legend.loc': 'best',\n",
    "                     'savefig.bbox': 'tight',\n",
    "                     'savefig.pad_inches': 0.05,\n",
    "                     'savefig.dpi': 80,\n",
    "                     'pdf.compression': 9})\n",
    "\n",
    "\n",
    "import lal\n",
    "import lalsimulation as lals\n",
    "\n",
    "\n",
    "# packages used to generate ODE-Phenom waveforms\n",
    "from src.LAL_constants import *\n",
    "from src import waveLib as wL\n",
    "from src import misc"
   ]
  },
  {
   "cell_type": "code",
   "execution_count": 2,
   "id": "c64e9b1b",
   "metadata": {},
   "outputs": [
    {
     "name": "stdout",
     "output_type": "stream",
     "text": [
      "f_max [Hz]: 2048.0\n",
      "1/Delta f ~ t_duration [s]: 16.0\n",
      "number of freq bins: 32448\n"
     ]
    }
   ],
   "source": [
    "Mt_Ms = 15\n",
    "t_Mt = G*Mt_Ms*Ms/c**3.\n",
    "\n",
    "\n",
    "qq = 1./4\n",
    "M1_Ms, M2_Ms = Mt_Ms/(1.+qq), qq*Mt_Ms/(1.+qq)\n",
    "\n",
    "chi1p, chi1z = 0.6,  0.2\n",
    "phi_1 = 0.5 * np.pi\n",
    "chi1x = chi1p * np.cos(phi_1)\n",
    "chi1y = chi1p * np.sin(phi_1)\n",
    "\n",
    "chi2p, chi2z = 0.6,  0.2\n",
    "phi_2 = 0. * np.pi\n",
    "chi2x = chi2p * np.cos(phi_2)\n",
    "chi2y = chi2p * np.sin(phi_2)\n",
    "\n",
    "dist_Mpc = 1\n",
    "phi_ref = .55* np.pi #-0.3*np.pi\n",
    "iota = np.pi/3\n",
    "\n",
    "f_ref = 100\n",
    "\n",
    "\n",
    "f_lower = 20\n",
    "delta_t, delta_f = misc.get_delta_t_delta_f(f_lower, M1_Ms*Ms, M2_Ms*Ms)\n",
    "\n",
    "# aLIGO has tiny sensitivity beyond 2k Hz\n",
    "if 0.5/delta_t > 2048:\n",
    "    delta_t = 1/4096.\n",
    "    \n",
    "print('f_max [Hz]:',.5/delta_t)\n",
    "print('1/Delta f ~ t_duration [s]:', 1./delta_f)\n",
    "\n",
    "\n",
    "freq = np.arange(f_lower, .5/delta_t, delta_f)\n",
    "print('number of freq bins:', len(freq))"
   ]
  },
  {
   "cell_type": "code",
   "execution_count": 4,
   "id": "20d6a2fe",
   "metadata": {},
   "outputs": [
    {
     "name": "stdout",
     "output_type": "stream",
     "text": [
      "time (s) per waveform:  0.10281153900000106\n"
     ]
    }
   ],
   "source": [
    "# make sure the waveform runs\n",
    "\n",
    "### IMRPhenomXODE ###\n",
    "\n",
    "# modes in the co-precessing frame; \n",
    "# note only m<0 modes have f>0 support\n",
    "ll_list_neg = np.array([ 2,  2,  3,  3,  4])\n",
    "mm_list_neg = np.array([-2, -1, -3, -2, -4])\n",
    "\n",
    "# define LAL like input\n",
    "aux_par = lal.CreateDict()\n",
    "kwargs_XODE = {\n",
    "    'freqs':freq,\n",
    "    'approximant': 'XODE',\n",
    "    'll_list_neg':ll_list_neg,\n",
    "    'mm_list_neg':mm_list_neg,\n",
    "    'use_N4LO_prec':True,\n",
    "    'SEOB_22_cal':True,\n",
    "    'SEOB_HM_cal':True,\n",
    "    'update_spin': False,\n",
    "    'mass1':M1_Ms,\n",
    "    'mass2':M2_Ms,\n",
    "    'spin1x':chi1x, \n",
    "    'spin1y':chi1y,\n",
    "    'spin1z':chi1z,\n",
    "    'spin2x':chi2x, \n",
    "    'spin2y':chi2y,\n",
    "    'spin2z':chi2z,\n",
    "    'f_ref': f_ref,\n",
    "    'phi_ref':phi_ref,\n",
    "    'iota':iota,\n",
    "    'f_lower': freq[0],\n",
    "    'distance': dist_Mpc,    \n",
    "    'aux_par':aux_par, \n",
    "    'atol':1e-3,\n",
    "    'rtol':1e-3\n",
    "}\n",
    "\n",
    "# XODE\n",
    "t_run0 = timeit.default_timer()\n",
    "hp_XODE, hc_XODE = wL.get_hp_hc_f_sequence(**kwargs_XODE)\n",
    "t_run1 = timeit.default_timer()\n",
    "\n",
    "# it may take some time for compiling the code when running it the first time\n",
    "# the subsequent evaluation should be efficient <~ 40 ms for the example\n",
    "print('time (s) per waveform: ', t_run1 - t_run0)\n",
    "\n",
    "\n",
    "\n",
    "### IMRPhenomXPHM ###\n",
    "kwargs_XPHM = kwargs_XODE.copy()\n",
    "# 102 for NNLO 223 for MSA\n",
    "lals.SimInspiralWaveformParamsInsertPhenomXPrecVersion(kwargs_XPHM['aux_par'], 223)\n",
    "kwargs_XPHM['approximant'] = 'XPHM'\n",
    "hp_XPHM, hc_XPHM = wL.get_hp_hc_f_sequence(**kwargs_XPHM)"
   ]
  },
  {
   "cell_type": "markdown",
   "id": "735b8153",
   "metadata": {},
   "source": [
    "## Check the performance using prun"
   ]
  },
  {
   "cell_type": "markdown",
   "id": "f490760a",
   "metadata": {},
   "source": [
    "### XODE"
   ]
  },
  {
   "cell_type": "code",
   "execution_count": 5,
   "id": "44776d05",
   "metadata": {},
   "outputs": [
    {
     "name": "stdout",
     "output_type": "stream",
     "text": [
      " "
     ]
    }
   ],
   "source": [
    "%%prun\n",
    "for i in range(100):\n",
    "    hp_XODE, hc_XODE = wL.get_hp_hc_f_sequence(**kwargs_XODE)"
   ]
  },
  {
   "cell_type": "raw",
   "id": "c57bd2c0",
   "metadata": {},
   "source": [
    "         859003 function calls (847203 primitive calls) in 8.469 seconds\n",
    "\n",
    "   Ordered by: internal time\n",
    "\n",
    "   ncalls  tottime  percall  cumtime  percall filename:lineno(function)\n",
    "      500    2.369    0.005    2.369    0.005 {built-in method lalsimulation._lalsimulation.SimIMRPhenomXPHMFrequencySequenceOneMode}\n",
    "     2000    1.800    0.001    1.800    0.001 {built-in method scipy.interpolate._fitpack._spl_}\n",
    "      100    1.105    0.011    1.106    0.011 waveLib.py:515(get_h_iner_pol_from_h_prec_f_dmn)\n",
    "      100    0.556    0.006    8.322    0.083 waveLib.py:146(get_hp_hc_f_dmn_XPHM_f_sequence)\n",
    "    55000    0.414    0.000    0.439    0.000 precLib.py:677(evol_binary_circ_fast_N4LO)\n",
    "     9100    0.347    0.000    1.280    0.000 rk.py:14(rk_step)\n",
    "    55000    0.294    0.000    0.733    0.000 precLib.py:2154(<lambda>)\n",
    "     1000    0.259    0.000    0.259    0.000 {built-in method lalsimulation._lalsimulation.SimInspiralModeArrayActivateMode}\n",
    "      100    0.236    0.002    0.236    0.002 waveLib.py:382(coprec_cal)\n",
    "      100    0.137    0.001    8.463    0.085 waveLib.py:22(get_hp_hc_f_sequence)\n",
    "     7700    0.133    0.000    1.572    0.000 rk.py:111(_step_impl)\n",
    "93000/81200    0.129    0.000    0.234    0.000 {built-in method numpy.core._multiarray_umath.implement_array_function}"
   ]
  },
  {
   "cell_type": "markdown",
   "id": "5ef1b872",
   "metadata": {},
   "source": [
    "### XPHM"
   ]
  },
  {
   "cell_type": "code",
   "execution_count": 6,
   "id": "0a3c4dea",
   "metadata": {},
   "outputs": [
    {
     "name": "stdout",
     "output_type": "stream",
     "text": [
      " "
     ]
    }
   ],
   "source": [
    "%%prun\n",
    "for i in range(100):\n",
    "    hp_XODE, hc_XODE = wL.get_hp_hc_f_sequence(**kwargs_XPHM)"
   ]
  },
  {
   "cell_type": "raw",
   "id": "f9763145",
   "metadata": {},
   "source": [
    "         6703 function calls (6303 primitive calls) in 11.935 seconds\n",
    "\n",
    "   Ordered by: internal time\n",
    "\n",
    "   ncalls  tottime  percall  cumtime  percall filename:lineno(function)\n",
    "      100   11.240    0.112   11.240    0.112 {built-in method lalsimulation._lalsimulation.SimIMRPhenomXPHMFrequencySequence}\n",
    "     1000    0.319    0.000    0.319    0.000 {built-in method lalsimulation._lalsimulation.SimInspiralModeArrayActivateMode}\n",
    "        1    0.128    0.128   11.935   11.935 <string>:1(<module>)\n",
    "      100    0.123    0.001   11.807    0.118 waveLib.py:22(get_hp_hc_f_sequence)\n",
    "      100    0.034    0.000    0.034    0.000 {built-in method lal._lal.CreateREAL8Sequence}\n",
    "      100    0.028    0.000    0.028    0.000 {built-in method lal._lal.CreateDict}\n",
    "      100    0.028    0.000    0.028    0.000 {built-in method lalsimulation._lalsimulation.SimInspiralCreateModeArray}\n",
    "      100    0.026    0.000    0.026    0.000 {built-in method lalsimulation._lalsimulation.SimInspiralWaveformParamsInsertModeArray}\n",
    "  700/300    0.002    0.000    0.007    0.000 {built-in method numpy.core._multiarray_umath.implement_array_function}"
   ]
  }
 ],
 "metadata": {
  "kernelspec": {
   "display_name": "Python 3 (ipykernel)",
   "language": "python",
   "name": "python3"
  },
  "language_info": {
   "codemirror_mode": {
    "name": "ipython",
    "version": 3
   },
   "file_extension": ".py",
   "mimetype": "text/x-python",
   "name": "python",
   "nbconvert_exporter": "python",
   "pygments_lexer": "ipython3",
   "version": "3.9.0"
  }
 },
 "nbformat": 4,
 "nbformat_minor": 5
}
